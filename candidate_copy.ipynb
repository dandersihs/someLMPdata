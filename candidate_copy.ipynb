{
 "cells": [
  {
   "cell_type": "code",
   "execution_count": 1,
   "metadata": {},
   "outputs": [],
   "source": [
    "#This is a 48 hour take home technical exam for \n",
    "#prospective data scientists for the GPCS DS&M team at S&P Global Commodity Insights\n",
    "\n",
    "#Please use charts/visualizations liberally, show us your best viz techniques!\n",
    "#In many cases the sections will require you to provide some written explanations or context.\n",
    "#You can either provide these as comments or provide them in the email text when you return the test or both\n",
    "\n",
    "#When you have completed the test please email your annotated copy of this jupyter notebook to Duncan\n",
    "\n",
    "#Good luck!"
   ]
  },
  {
   "cell_type": "markdown",
   "metadata": {},
   "source": [
    "#SECTION 1: EXPLORATORY DATA ANALYSIS AND MODELING"
   ]
  },
  {
   "cell_type": "code",
   "execution_count": 60,
   "metadata": {},
   "outputs": [],
   "source": [
    "#load the json aln_crk_5.json into a df\n",
    "\n",
    "#This is an hourly dataset for a single power plant (a \"node\" or \"bus\") in the Texas electrical grid (ERCOT)\n",
    "#The \"zonal price\" represents the average price for a large area, in this case \"WEST\" its the average of many node prices\n",
    "\n",
    "#The LMP_basis is the difference between the price at this node and the zonal average price\n",
    "#This is a bit of an unusual or complicated concept! \n",
    "#Note that the price at the node (The LMP or \"locational marginal price\") can be calculated as zonal price + lmp basis\n",
    "#If the zonal price is $40 and the LMP basis is $.50, the price at the node is $40 + $.5 = $40.5\n",
    "#The LMP basis can be thought of as a relative measure of price, relative to the average LMP for the zone (zonal price)\n",
    "#A negative LMP basis means the price at the location is lower than the zonal average.\n",
    "\n",
    "#The \"load\" column is the demand for electricity in the WEST in this hour\n",
    "#The \"wind\" column is the level of wind generation in this hour\n",
    "#the \"gas\" column is the gas price in this hour"
   ]
  },
  {
   "cell_type": "code",
   "execution_count": null,
   "metadata": {},
   "outputs": [],
   "source": []
  },
  {
   "cell_type": "code",
   "execution_count": 2,
   "metadata": {},
   "outputs": [],
   "source": [
    "#First lets QA the data. \n",
    "#Is there anything wrong with this dataset? \n",
    "#See if you can correct these issues"
   ]
  },
  {
   "cell_type": "code",
   "execution_count": null,
   "metadata": {},
   "outputs": [],
   "source": []
  },
  {
   "cell_type": "code",
   "execution_count": null,
   "metadata": {},
   "outputs": [],
   "source": [
    "#Now lets do some EDA\n",
    "#Do any of the variables have unusual distributions?\n",
    "#We are interested in predicting LMP basis, which variables here are most useful for that? Why?\n",
    "#Using charts and text, explain to me what you see in the data. \n",
    "#Are there obvious patterns that could be exploited?\n",
    "#How do these variables change with time? How could we use time in our model?\n",
    "#What transformations would you recommend for these variables"
   ]
  },
  {
   "cell_type": "code",
   "execution_count": null,
   "metadata": {},
   "outputs": [],
   "source": []
  },
  {
   "cell_type": "code",
   "execution_count": null,
   "metadata": {},
   "outputs": [],
   "source": [
    "#Construct a model that predicts LMP Basis through 2050\n",
    "#you may choose a time series model, a ML model, or a traditional statistical model\n",
    "#A time series model may seem the obvious choice but it will be very challenging to implement\n",
    "#Use the most recent 12 months of data in the json as a test or validation dataset\n",
    "#Your model must report RMSE"
   ]
  },
  {
   "cell_type": "code",
   "execution_count": null,
   "metadata": {},
   "outputs": [],
   "source": []
  },
  {
   "cell_type": "code",
   "execution_count": 61,
   "metadata": {},
   "outputs": [],
   "source": [
    "#Prediction\n",
    "#You can find forecasts of all the variables (except LMP basis of course) in the file 'aln_crk_5_forecast.json'\n",
    "#Load this covariate forecast, perform the necessary transformations, and feed it to your model to predict LMP basis\n"
   ]
  },
  {
   "cell_type": "code",
   "execution_count": null,
   "metadata": {},
   "outputs": [],
   "source": []
  },
  {
   "cell_type": "code",
   "execution_count": null,
   "metadata": {},
   "outputs": [],
   "source": [
    "#Results QA\n",
    "#Characterise the results of your lmp basis forecast.\n",
    "#Do you see anything unusual? How do the values change over time as a result of the forecasted covariates?\n"
   ]
  },
  {
   "cell_type": "code",
   "execution_count": null,
   "metadata": {},
   "outputs": [],
   "source": []
  },
  {
   "cell_type": "markdown",
   "metadata": {},
   "source": [
    "#SECTION 2: STOCHASTICS SECTION"
   ]
  },
  {
   "cell_type": "code",
   "execution_count": null,
   "metadata": {},
   "outputs": [],
   "source": [
    "#Take the historical wind data and split it up in the following manner:\n",
    "#seasons: \n",
    "##winter is months 12,1,2\n",
    "##shoulder (spring+fall) is months 3,4,10,11\n",
    "##summer is months 5,6,7,8,9\n",
    "#day/night\n",
    "##day is hours 7-20\n",
    "##night is hours 1-6 and 21-24\n",
    "\n",
    "#you should have 6 buckets (day-summer, night-summer, day-winter, night-winter, day-shoulder, night-shoulder)"
   ]
  },
  {
   "cell_type": "code",
   "execution_count": null,
   "metadata": {},
   "outputs": [],
   "source": []
  },
  {
   "cell_type": "code",
   "execution_count": null,
   "metadata": {},
   "outputs": [],
   "source": [
    "#for each of these buckets, construct histograms of the wind generation data\n"
   ]
  },
  {
   "cell_type": "code",
   "execution_count": null,
   "metadata": {},
   "outputs": [],
   "source": []
  },
  {
   "cell_type": "code",
   "execution_count": null,
   "metadata": {},
   "outputs": [],
   "source": [
    "#For each of the buckets, fit the data to a distribution of your choice and assess how well the data fits the distribution"
   ]
  },
  {
   "cell_type": "code",
   "execution_count": null,
   "metadata": {},
   "outputs": [],
   "source": []
  },
  {
   "cell_type": "code",
   "execution_count": null,
   "metadata": {},
   "outputs": [],
   "source": [
    "#For each of these distributions, assign a Random Variable that we can use to generate values fitting the distribution"
   ]
  },
  {
   "cell_type": "code",
   "execution_count": null,
   "metadata": {},
   "outputs": [],
   "source": []
  },
  {
   "cell_type": "code",
   "execution_count": null,
   "metadata": {},
   "outputs": [],
   "source": [
    "#Use these variables to generate a 12 month forecast of wind generation in ERCOT\n",
    "\n",
    "#Your 12 month period should match the last 12 months of data available in the aln_crk_5.json\n"
   ]
  },
  {
   "cell_type": "code",
   "execution_count": null,
   "metadata": {},
   "outputs": [],
   "source": []
  },
  {
   "cell_type": "code",
   "execution_count": null,
   "metadata": {},
   "outputs": [],
   "source": [
    "#Compare your stochastically generated wind generation data with the actuals for this period\n",
    "#In whatever manner you feel is appropriate\n",
    "#How did the stochastic model do? Is it a good predictor of wind generation? Why or why not?"
   ]
  }
 ],
 "metadata": {
  "kernelspec": {
   "display_name": "Python 3",
   "language": "python",
   "name": "python3"
  },
  "language_info": {
   "codemirror_mode": {
    "name": "ipython",
    "version": 3
   },
   "file_extension": ".py",
   "mimetype": "text/x-python",
   "name": "python",
   "nbconvert_exporter": "python",
   "pygments_lexer": "ipython3",
   "version": "3.8.8"
  }
 },
 "nbformat": 4,
 "nbformat_minor": 2
}
